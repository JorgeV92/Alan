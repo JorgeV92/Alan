{
  "nbformat": 4,
  "nbformat_minor": 0,
  "metadata": {
    "kernelspec": {
      "display_name": "Python 3",
      "language": "python",
      "name": "python3"
    },
    "language_info": {
      "codemirror_mode": {
        "name": "ipython",
        "version": 3
      },
      "file_extension": ".py",
      "mimetype": "text/x-python",
      "name": "python",
      "nbconvert_exporter": "python",
      "pygments_lexer": "ipython3",
      "version": "3.7.1-final"
    },
    "colab": {
      "provenance": [],
      "include_colab_link": true
    }
  },
  "cells": [
    {
      "cell_type": "markdown",
      "metadata": {
        "id": "view-in-github",
        "colab_type": "text"
      },
      "source": [
        "<a href=\"https://colab.research.google.com/github/JorgeV92/Alan/blob/main/GradientDescent.ipynb\" target=\"_parent\"><img src=\"https://colab.research.google.com/assets/colab-badge.svg\" alt=\"Open In Colab\"/></a>"
      ]
    },
    {
      "cell_type": "markdown",
      "metadata": {
        "id": "OUXUbvIcbmSy"
      },
      "source": [
        "# Data Generation"
      ]
    },
    {
      "cell_type": "code",
      "metadata": {
        "id": "WPlLJzl9bmS6",
        "colab": {
          "base_uri": "https://localhost:8080/"
        },
        "outputId": "568e95f1-b14b-49b2-f11e-1f81f8d5ab4f"
      },
      "source": [
        "%matplotlib inline\n",
        "import numpy as np\n",
        "import numpy.linalg as la\n",
        "import matplotlib.pyplot as plt\n",
        "\n",
        "dim_theta = 10\n",
        "data_num = 1000\n",
        "scale = .1\n",
        "\n",
        "theta_true = np.ones((dim_theta,1))\n",
        "print('True theta:', theta_true.reshape(-1))\n",
        "\n",
        "A = np.random.uniform(low=-1.0, high=1.0, size=(data_num,dim_theta))\n",
        "y_data = A @ theta_true + np.random.normal(loc=0.0, scale=scale, size=(data_num, 1))\n",
        "\n",
        "A_test = np.random.uniform(low=-1.0, high=1.0, size=(50, dim_theta))\n",
        "y_test = A_test @ theta_true + np.random.normal(loc=0.0, scale=scale, size=(50, 1))"
      ],
      "execution_count": 1,
      "outputs": [
        {
          "output_type": "stream",
          "name": "stdout",
          "text": [
            "True theta: [1. 1. 1. 1. 1. 1. 1. 1. 1. 1.]\n"
          ]
        }
      ]
    },
    {
      "cell_type": "markdown",
      "metadata": {
        "id": "ZU_XvbFtbmTT"
      },
      "source": [
        "# Solving for the exact mean squared loss (solving Ax = b)"
      ]
    },
    {
      "cell_type": "code",
      "metadata": {
        "id": "BmhrX7mHbmTW",
        "colab": {
          "base_uri": "https://localhost:8080/"
        },
        "outputId": "5f8d2167-ad12-41cb-c0a9-6c163a913443"
      },
      "source": [
        "print('Not implemented.')\n",
        "\n",
        "'''\n",
        "Hints:\n",
        "1. See the least squares solution to Ax = b (when it is covered in lecture).\n",
        "\n",
        "2. Use Numpy functions like Numpy's linear algebra functions to solve for x in Ax = b.\n",
        "In fact, the linear algebra module is already imported with ```import numpy.linalg as la```.\n",
        "\n",
        "3. Use the defined variable A in Ax = b. Use y_data as b. Use theta_pred as x.\n",
        "'''\n",
        "theta_pred = la.inv(A.T @ A) @ (A.T @ y_data) # TODO: Implement the analytical solution\n",
        "\n",
        "print('Empirical theta', theta_pred.reshape(-1))"
      ],
      "execution_count": 2,
      "outputs": [
        {
          "output_type": "stream",
          "name": "stdout",
          "text": [
            "Not implemented.\n",
            "Empirical theta [0.99728919 1.00200276 1.00596315 0.9957438  0.99640632 0.99592733\n",
            " 1.00729374 0.98866734 1.00437946 0.9992974 ]\n"
          ]
        }
      ]
    },
    {
      "cell_type": "markdown",
      "metadata": {
        "id": "xeV_SKF_bmTj"
      },
      "source": [
        "# SGD Variants Noisy Function"
      ]
    },
    {
      "cell_type": "code",
      "metadata": {
        "id": "SvwmLrlAbmTn"
      },
      "source": [
        "batch_size = 1\n",
        "max_iter = 1000\n",
        "lr = 0.001\n",
        "theta_init = np.random.random((10,1)) * 0.1"
      ],
      "execution_count": 3,
      "outputs": []
    },
    {
      "cell_type": "code",
      "metadata": {
        "id": "1hVSuTZxbmT2"
      },
      "source": [
        "def noisy_val_grad(theta_hat, data_, label_, deg_=2.):\n",
        "    gradient = np.zeros_like(theta_hat)\n",
        "    loss = 0\n",
        "    \n",
        "    for i in range(data_.shape[0]):\n",
        "        x_ = data_[i, :].reshape(-1,1)\n",
        "        y_ = label_[i, 0]\n",
        "        err = np.sum(x_ * theta_hat) - y_\n",
        "        \n",
        "        #print('Not implemented.')\n",
        "\n",
        "        '''\n",
        "        Hints:\n",
        "        1. Find the gradient and loss for each data point x_.\n",
        "        2. For grad, you need err, deg_, and x_.\n",
        "        3. For l, you need err and deg_ only.\n",
        "        4. Checkout the writeup for more hints.\n",
        "        '''\n",
        "        grad = deg_ * np.sign(err) * np.abs(err) ** (deg_ - 1) * x_ # TODO: Implement the analytical gradient\n",
        "        l = np.abs(err) ** deg_ # TODO: Implement the loss function\n",
        "        \n",
        "        loss += l / data_.shape[0]\n",
        "        gradient += grad / data_.shape[0]\n",
        "        \n",
        "    return loss, gradient"
      ],
      "execution_count": 4,
      "outputs": []
    },
    {
      "cell_type": "markdown",
      "metadata": {
        "id": "B5abUl0ibmUF"
      },
      "source": [
        "# Running SGD Variants"
      ]
    },
    {
      "cell_type": "code",
      "metadata": {
        "id": "xybXkEd7bmUJ",
        "colab": {
          "base_uri": "https://localhost:8080/",
          "height": 596
        },
        "outputId": "37051cc6-a525-41cb-c25d-035726fcab3d"
      },
      "source": [
        "#@title Parameters\n",
        "deg_ = [0.4,0.7,1.,2.,3.,5.] #@param {type: \"number\"}\n",
        "num_rep = 10 #@param {type: \"integer\"}\n",
        "max_iter = 1000 #@param {type: \"integer\"}\n",
        "fig, ax = plt.subplots(figsize=(10,10))\n",
        "best_vals = {}\n",
        "test_exp_interval = 50 #@param {type: \"integer\"}\n",
        "grad_artificial_normal_noise_scale = 0. #@param {type: \"number\"}"
      ],
      "execution_count": 5,
      "outputs": [
        {
          "output_type": "display_data",
          "data": {
            "text/plain": [
              "<Figure size 720x720 with 1 Axes>"
            ],
            "image/png": "[encoded data removed]"
          },
          "metadata": {
            "needs_background": "light"
          }
        }
      ]
    },
    {
      "cell_type": "code",
      "metadata": {
        "id": "UM80QBNFbmUV",
        "colab": {
          "base_uri": "https://localhost:8080/",
          "height": 971
        },
        "outputId": "35c0daf6-96cb-4f85-a0cb-37d2c9f5a858"
      },
      "source": [
        "for method_idx, method in enumerate(['adam', 'sgd']):\n",
        "    test_loss_mat = []\n",
        "    train_loss_mat = []\n",
        "    \n",
        "    for replicate in range(num_rep):\n",
        "        if replicate % 20 == 0:\n",
        "            print(method, replicate)\n",
        "            \n",
        "        if method == 'adam':\n",
        "            #print('Adam Not implemented.')\n",
        "            beta_1 = 0.9\n",
        "            beta_2 = 0.999\n",
        "            m = np.zeros_like(theta_pred) # TODO: Initialize parameters\n",
        "            v = np.zeros_like(theta_pred)\n",
        "            epsilon = 1e-8\n",
        "\n",
        "        if method == 'adagrad':\n",
        "            #print('Adagrad Not implemented.')\n",
        "            epsilon =  1e-8 # TODO: Initialize parameters\n",
        "            squared_sum = np.zeros_like(theta_pred)\n",
        "            \n",
        "        theta_hat = theta_init.copy()\n",
        "        test_loss_list = []\n",
        "        train_loss_list = []\n",
        "\n",
        "        for t in range(max_iter):\n",
        "            idx = np.random.choice(data_num, batch_size) # Split data\n",
        "            train_loss, gradient = noisy_val_grad(theta_hat, A[idx,:], y_data[idx,:], deg_=deg_[3])\n",
        "            #print(gradient.shape)\n",
        "            artificial_grad_noise = np.random.randn(10, 1) * grad_artificial_normal_noise_scale + np.sign(np.random.random((10, 1)) - 0.5) * 0.5\n",
        "            gradient = gradient + artificial_grad_noise\n",
        "            train_loss_list.append(train_loss)\n",
        "            \n",
        "            if t % test_exp_interval == 0:\n",
        "                test_loss, _ = noisy_val_grad(theta_hat, A_test[:,:], y_test[:,:], deg_=deg_[3])\n",
        "                test_loss_list.append(test_loss)                \n",
        "            \n",
        "            if method == 'adam':\n",
        "                #print('Adam Not implemented.') # TODO: Implement Adam\n",
        "                m = beta_1 * m  + (1 - beta_1) * gradient\n",
        "                v = beta_2 * v + (1 - beta_2) * gradient**2\n",
        "                m_hat = m / (1 - beta_1 ** t+1)\n",
        "                v_hat = v / (1 - beta_2 ** t+1)\n",
        "                theta_hat = theta_hat - lr * m_hat / (np.sqrt(v_hat) + epsilon)\n",
        "            \n",
        "            elif method == 'adagrad':\n",
        "                #print('Adagrad Not implemented.')\n",
        "                squared_sum = squared_sum + gradient*gradient # TODO: Implement Adagrad\n",
        "                theta_hat = theta_hat - lr * gradient / (np.sqrt(squared_sum) + epsilon)\n",
        "            \n",
        "            elif method == 'sgd':\n",
        "                theta_hat = theta_hat - lr * gradient\n",
        "        \n",
        "        test_loss_mat.append(test_loss_list)\n",
        "        train_loss_mat.append(train_loss_list)\n",
        "        \n",
        "    print(method, 'done')\n",
        "    x_axis = np.arange(max_iter)[::test_exp_interval]\n",
        "    \n",
        "    print('test_loss_np is a 2d array with num_rep rows and each column denotes a specific update stage in training')\n",
        "    print('The elements of test_loss_np are the test loss values computed in each replicate and training stage.')\n",
        "    test_loss_np = np.array(test_loss_mat)\n",
        "    \n",
        "    print(\"Theta:\", theta_hat)\n",
        "    '''\n",
        "    Hints:\n",
        "    1. Use test_loss_np in np.mean() with axis = 0\n",
        "    '''\n",
        "    test_loss_mean = np.mean(test_loss_np, axis=0).reshape(-1) # TODO: Calculate the mean test loss\n",
        "    print(test_loss_mean)\n",
        "    '''\n",
        "    Hints:\n",
        "    1. Use test_loss_np in np.std() with axis = 0 \n",
        "    2. Divide by np.sqrt() using num_rep as a parameter\n",
        "    '''\n",
        "    test_loss_se = np.std(test_loss_np, axis=0).reshape(-1) / np.sqrt(num_rep) # TODO: Calculate the standard error for test loss\n",
        "\n",
        "    plt.errorbar(x_axis, test_loss_mean, yerr=2.5*test_loss_se, label=method)\n",
        "    best_vals[method] = min(test_loss_mean)\n",
        "    best_vals = { k: int(v * 1000) / 1000. for k,v in best_vals.items() } # A weird way to round numbers\n",
        "plt.title(f'Test Loss \\n(objective degree: {deg_[5]},  best values: {best_vals})')\n",
        "plt.ylabel('Test Loss')\n",
        "plt.legend()\n",
        "plt.xlabel('Updates')"
      ],
      "execution_count": 6,
      "outputs": [
        {
          "output_type": "stream",
          "name": "stdout",
          "text": [
            "adam 0\n",
            "adam done\n",
            "test_loss_np is a 2d array with num_rep rows and each column denotes a specific update stage in training\n",
            "The elements of test_loss_np are the test loss values computed in each replicate and training stage.\n",
            "Theta: [[0.39157642]\n",
            " [0.35418153]\n",
            " [0.27762608]\n",
            " [0.33877099]\n",
            " [0.40180098]\n",
            " [0.27248224]\n",
            " [0.39883628]\n",
            " [0.38045435]\n",
            " [0.39551237]\n",
            " [0.33030538]]\n",
            "[2.77341436 2.53422739 2.37443745 2.25866778 2.17292755 2.09309294\n",
            " 2.0196538  1.95577864 1.8863692  1.82413833 1.76922385 1.71942325\n",
            " 1.66982538 1.61609774 1.56417326 1.51566555 1.46857251 1.42717097\n",
            " 1.38839057 1.34902564]\n",
            "sgd 0\n",
            "sgd done\n",
            "test_loss_np is a 2d array with num_rep rows and each column denotes a specific update stage in training\n",
            "The elements of test_loss_np are the test loss values computed in each replicate and training stage.\n",
            "Theta: [[0.47160525]\n",
            " [0.5059031 ]\n",
            " [0.451809  ]\n",
            " [0.47615418]\n",
            " [0.54700807]\n",
            " [0.42735072]\n",
            " [0.50546997]\n",
            " [0.50709167]\n",
            " [0.49622354]\n",
            " [0.44887903]]\n",
            "[2.77341436 2.60616007 2.46518652 2.33195647 2.1850313  2.06081845\n",
            " 1.93639769 1.81649753 1.71021365 1.6066137  1.49967724 1.40772887\n",
            " 1.33283469 1.25143146 1.17831264 1.11110872 1.04225285 0.98246996\n",
            " 0.9231513  0.86787249]\n"
          ]
        },
        {
          "output_type": "execute_result",
          "data": {
            "text/plain": [
              "Text(0.5, 0, 'Updates')"
            ]
          },
          "metadata": {},
          "execution_count": 6
        },
        {
          "output_type": "display_data",
          "data": {
            "text/plain": [
              "<Figure size 432x288 with 1 Axes>"
            ],
            "image/png": "[encoded data removed]"
          },
          "metadata": {
            "needs_background": "light"
          }
        }
      ]
    },
    {
      "cell_type": "code",
      "source": [
        "\n",
        "best_vals"
      ],
      "metadata": {
        "colab": {
          "base_uri": "https://localhost:8080/"
        },
        "id": "PxWnPUZvrJNm",
        "outputId": "3b2376b5-cd9a-4bb5-83c5-8ab88e71f97a"
      },
      "execution_count": 7,
      "outputs": [
        {
          "output_type": "execute_result",
          "data": {
            "text/plain": [
              "{'adam': 1.349, 'sgd': 0.867}"
            ]
          },
          "metadata": {},
          "execution_count": 7
        }
      ]
    },
    {
      "cell_type": "code",
      "metadata": {
        "id": "EGmQD7nDbmUg",
        "colab": {
          "base_uri": "https://localhost:8080/",
          "height": 346
        },
        "outputId": "dccf84e6-2f92-4e88-add1-1c34f7ad93a3"
      },
      "source": [
        "best_vals = { k: int(v * 1000) / 1000. for k,v in best_vals.items() } # A weird way to round numbers\n",
        "plt.title(f'Test Loss \\n(objective degree: {deg_},  best values: {best_vals})')\n",
        "plt.ylabel('Test Loss')\n",
        "plt.legend()\n",
        "plt.xlabel('Updates')"
      ],
      "execution_count": null,
      "outputs": [
        {
          "output_type": "stream",
          "name": "stderr",
          "text": [
            "WARNING:matplotlib.legend:No handles with labels found to put in legend.\n"
          ]
        },
        {
          "output_type": "execute_result",
          "data": {
            "text/plain": [
              "Text(0.5, 0, 'Updates')"
            ]
          },
          "metadata": {},
          "execution_count": 19
        },
        {
          "output_type": "display_data",
          "data": {
            "text/plain": [
              "<Figure size 432x288 with 1 Axes>"
            ],
            "image/png": "[encoded data removed]"
          },
          "metadata": {
            "needs_background": "light"
          }
        }
      ]
    },
    {
      "cell_type": "code",
      "source": [],
      "metadata": {
        "id": "_QZsm7txbsZF"
      },
      "execution_count": null,
      "outputs": []
    }
  ]
}